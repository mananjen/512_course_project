{
 "cells": [
  {
   "cell_type": "code",
   "execution_count": 2,
   "metadata": {},
   "outputs": [],
   "source": [
    "# Preprocessing file names for the dataset\n",
    "import os\n",
    "\n",
    "def rename_files_in_folder(folder_path, GEN):\n",
    "    # Get all file names in the specified folder\n",
    "    files = os.listdir(folder_path)\n",
    "    \n",
    "    # Filter out directories, keep only files\n",
    "    files = [file for file in files if os.path.isfile(os.path.join(folder_path, file))]\n",
    "    \n",
    "    # Sort files alphabetically before renaming to maintain some order\n",
    "    files.sort()\n",
    "    \n",
    "    # Loop through sorted files and rename them\n",
    "    for index, file_name in enumerate(files):\n",
    "        # Get the extension of the file\n",
    "        extension = os.path.splitext(file_name)[1]\n",
    "        \n",
    "        # Define new file name with the same extension\n",
    "        if GEN:\n",
    "            new_file_name = f\"gen{index + 1}{extension}\"\n",
    "        else:\n",
    "            new_file_name = f\"real{index + 1}{extension}\"\n",
    "        \n",
    "        # Create full file paths\n",
    "        old_file_path = os.path.join(folder_path, file_name)\n",
    "        new_file_path = os.path.join(folder_path, new_file_name)\n",
    "        \n",
    "        # Rename the file\n",
    "        os.rename(old_file_path, new_file_path)\n",
    "        \n",
    "        # print(f\"Renamed '{file_name}' to '{new_file_name}'\")\n",
    "\n",
    "generated_images = \"E:\\\\CS 512 Project\\\\Proj\\\\data_image_classification\\\\generated_images\"\n",
    "real_images = \"E:\\\\CS 512 Project\\\\Proj\\\\data_image_classification\\\\real_images\""
   ]
  },
  {
   "cell_type": "code",
   "execution_count": 3,
   "metadata": {},
   "outputs": [],
   "source": [
    "rename_files_in_folder(generated_images, True)\n",
    "rename_files_in_folder(real_images, False)"
   ]
  }
 ],
 "metadata": {
  "kernelspec": {
   "display_name": "proj",
   "language": "python",
   "name": "python3"
  },
  "language_info": {
   "codemirror_mode": {
    "name": "ipython",
    "version": 3
   },
   "file_extension": ".py",
   "mimetype": "text/x-python",
   "name": "python",
   "nbconvert_exporter": "python",
   "pygments_lexer": "ipython3",
   "version": "3.11.8"
  }
 },
 "nbformat": 4,
 "nbformat_minor": 2
}
